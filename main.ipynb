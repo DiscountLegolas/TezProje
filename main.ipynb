{
  "cells": [
    {
      "cell_type": "code",
      "execution_count": 113,
      "metadata": {
        "id": "saRHEB54NqIO"
      },
      "outputs": [],
      "source": [
        "# importlar(imports)\n",
        "import findspark\n",
        "import pandas as pd\n",
        "from multipledispatch import dispatch\n",
        "import time\n",
        "import binascii\n",
        "from pyDes import des, CBC, PAD_PKCS5"
      ]
    },
    {
      "cell_type": "code",
      "execution_count": 114,
      "metadata": {
        "id": "vDMktIW-N05c"
      },
      "outputs": [],
      "source": [
        "findspark.init()\n",
        "from pyspark.sql import SparkSession\n",
        "spark = SparkSession.builder.master(\"local[*]\").appName('Tez').getOrCreate()"
      ]
    },
    {
      "attachments": {},
      "cell_type": "markdown",
      "metadata": {
        "id": "BP4zcAfCOiYH"
      },
      "source": [
        "**Importing pySpark Data types**"
      ]
    },
    {
      "cell_type": "code",
      "execution_count": 115,
      "metadata": {
        "id": "63AJm19nODS7"
      },
      "outputs": [],
      "source": [
        "from pyspark.sql.types import (StructField, StringType, StructType, IntegerType, FloatType)"
      ]
    },
    {
      "cell_type": "code",
      "execution_count": null,
      "metadata": {
        "id": "cLfV8ZGVOpuh"
      },
      "outputs": [],
      "source": [
        "# column isimleri\n",
        "\n",
        "data_schema = [\n",
        "    StructField('age', IntegerType(), True),\n",
        "    StructField('workclass', StringType(), True),\n",
        "    StructField('fnlwgt', FloatType(), True),\n",
        "    StructField('education', StringType(), True),\n",
        "    StructField('education-num', FloatType(), True),\n",
        "    StructField('marital-status', StringType(), True),\n",
        "    StructField('occupation', StringType(), True),\n",
        "    StructField('relationship', StringType(), True),\n",
        "    StructField('race', StringType(), True),\n",
        "    StructField('sex', StringType(), True),\n",
        "    StructField('capital-gain', FloatType(), True),\n",
        "    StructField('capital-loss', FloatType(), True),\n",
        "    StructField('hours-per-week', FloatType(), True),\n",
        "    StructField('native-country', StringType(), True),\n",
        "    StructField('income', StringType(), True),\n",
        "]\n",
        "\n",
        "final_struct = StructType(fields=data_schema)\n",
        "\n",
        "df = spark.read.csv(\"./DATASET/adult.all.txt\", sep=\",\", header=None, schema=final_struct)"
      ]
    },
    {
      "attachments": {},
      "cell_type": "markdown",
      "metadata": {
        "id": "8ym4KhNpO0hF"
      },
      "source": [
        "**Here's how Dataset Looks like**"
      ]
    },
    {
      "cell_type": "code",
      "execution_count": 117,
      "metadata": {
        "colab": {
          "base_uri": "https://localhost:8080/"
        },
        "id": "VpVS4M11Ow9B",
        "outputId": "d85197a8-1731-417e-d49a-f0d58008b21c"
      },
      "outputs": [
        {
          "name": "stdout",
          "output_type": "stream",
          "text": [
            "+---+-----------------+--------+-------------+-------------+--------------------+------------------+--------------+-------------------+-------+------------+------------+--------------+--------------+------+\n",
            "|age|        workclass|  fnlwgt|    education|education-num|      marital-status|        occupation|  relationship|               race|    sex|capital-gain|capital-loss|hours-per-week|native-country|income|\n",
            "+---+-----------------+--------+-------------+-------------+--------------------+------------------+--------------+-------------------+-------+------------+------------+--------------+--------------+------+\n",
            "| 39|        State-gov| 77516.0|    Bachelors|         13.0|       Never-married|      Adm-clerical| Not-in-family|              White|   Male|      2174.0|         0.0|          40.0| United-States| <=50k|\n",
            "| 50| Self-emp-not-inc| 83311.0|    Bachelors|         13.0|  Married-civ-spouse|   Exec-managerial|       Husband|              White|   Male|         0.0|         0.0|          13.0| United-States| <=50k|\n",
            "| 38|          Private|215646.0|      HS-grad|          9.0|            Divorced| Handlers-cleaners| Not-in-family|              White|   Male|         0.0|         0.0|          40.0| United-States| <=50k|\n",
            "| 53|          Private|234721.0|         11th|          7.0|  Married-civ-spouse| Handlers-cleaners|       Husband|              Black|   Male|         0.0|         0.0|          40.0| United-States| <=50k|\n",
            "| 28|          Private|338409.0|    Bachelors|         13.0|  Married-civ-spouse|    Prof-specialty|          Wife|              Black| Female|         0.0|         0.0|          40.0|          Cuba| <=50k|\n",
            "| 37|          Private|284582.0|      Masters|         14.0|  Married-civ-spouse|   Exec-managerial|          Wife|              White| Female|         0.0|         0.0|          40.0| United-States| <=50k|\n",
            "| 49|          Private|160187.0|          9th|          5.0| Married-spouse-a...|     Other-service| Not-in-family|              Black| Female|         0.0|         0.0|          16.0|       Jamaica| <=50k|\n",
            "| 52| Self-emp-not-inc|209642.0|      HS-grad|          9.0|  Married-civ-spouse|   Exec-managerial|       Husband|              White|   Male|         0.0|         0.0|          45.0| United-States|  >50k|\n",
            "| 31|          Private| 45781.0|      Masters|         14.0|       Never-married|    Prof-specialty| Not-in-family|              White| Female|     14084.0|         0.0|          50.0| United-States|  >50k|\n",
            "| 42|          Private|159449.0|    Bachelors|         13.0|  Married-civ-spouse|   Exec-managerial|       Husband|              White|   Male|      5178.0|         0.0|          40.0| United-States|  >50k|\n",
            "| 37|          Private|280464.0| Some-college|         10.0|  Married-civ-spouse|   Exec-managerial|       Husband|              Black|   Male|         0.0|         0.0|          80.0| United-States|  >50k|\n",
            "| 30|        State-gov|141297.0|    Bachelors|         13.0|  Married-civ-spouse|    Prof-specialty|       Husband| Asian-Pac-Islander|   Male|         0.0|         0.0|          40.0|         India|  >50k|\n",
            "| 23|          Private|122272.0|    Bachelors|         13.0|       Never-married|      Adm-clerical|     Own-child|              White| Female|         0.0|         0.0|          30.0| United-States| <=50k|\n",
            "| 32|          Private|205019.0|   Assoc-acdm|         12.0|       Never-married|             Sales| Not-in-family|              Black|   Male|         0.0|         0.0|          50.0| United-States| <=50k|\n",
            "| 40|          Private|121772.0|    Assoc-voc|         11.0|  Married-civ-spouse|      Craft-repair|       Husband| Asian-Pac-Islander|   Male|         0.0|         0.0|          40.0|             ?|  >50k|\n",
            "| 34|          Private|245487.0|      7th-8th|          4.0|  Married-civ-spouse|  Transport-moving|       Husband| Amer-Indian-Eskimo|   Male|         0.0|         0.0|          45.0|        Mexico| <=50k|\n",
            "| 25| Self-emp-not-inc|176756.0|      HS-grad|          9.0|       Never-married|   Farming-fishing|     Own-child|              White|   Male|         0.0|         0.0|          35.0| United-States| <=50k|\n",
            "| 32|          Private|186824.0|      HS-grad|          9.0|       Never-married| Machine-op-inspct|     Unmarried|              White|   Male|         0.0|         0.0|          40.0| United-States| <=50k|\n",
            "| 38|          Private| 28887.0|         11th|          7.0|  Married-civ-spouse|             Sales|       Husband|              White|   Male|         0.0|         0.0|          50.0| United-States| <=50k|\n",
            "| 43| Self-emp-not-inc|292175.0|      Masters|         14.0|            Divorced|   Exec-managerial|     Unmarried|              White| Female|         0.0|         0.0|          45.0| United-States|  >50k|\n",
            "+---+-----------------+--------+-------------+-------------+--------------------+------------------+--------------+-------------------+-------+------------+------------+--------------+--------------+------+\n",
            "only showing top 20 rows\n",
            "\n",
            "root\n",
            " |-- age: integer (nullable = true)\n",
            " |-- workclass: string (nullable = true)\n",
            " |-- fnlwgt: float (nullable = true)\n",
            " |-- education: string (nullable = true)\n",
            " |-- education-num: float (nullable = true)\n",
            " |-- marital-status: string (nullable = true)\n",
            " |-- occupation: string (nullable = true)\n",
            " |-- relationship: string (nullable = true)\n",
            " |-- race: string (nullable = true)\n",
            " |-- sex: string (nullable = true)\n",
            " |-- capital-gain: float (nullable = true)\n",
            " |-- capital-loss: float (nullable = true)\n",
            " |-- hours-per-week: float (nullable = true)\n",
            " |-- native-country: string (nullable = true)\n",
            " |-- income: string (nullable = true)\n",
            "\n"
          ]
        }
      ],
      "source": [
        "df.show()\n",
        "df.printSchema()"
      ]
    },
    {
      "attachments": {},
      "cell_type": "markdown",
      "metadata": {
        "id": "hw08Oj0LPBj7"
      },
      "source": [
        "**Making the tables user & graphic friendly -> Converting to Pandas**"
      ]
    },
    {
      "cell_type": "code",
      "execution_count": 118,
      "metadata": {
        "id": "RcmvUjzvO9Ny"
      },
      "outputs": [],
      "source": [
        "# PANDAYA DÖnüşüm\n",
        "df = df.toPandas()"
      ]
    },
    {
      "cell_type": "code",
      "execution_count": 119,
      "metadata": {
        "colab": {
          "base_uri": "https://localhost:8080/",
          "height": 250
        },
        "id": "4kJMX-uUPMoi",
        "outputId": "c7f2748c-6d1f-4487-9456-92f3c16b9628"
      },
      "outputs": [
        {
          "data": {
            "text/html": [
              "<div>\n",
              "<style scoped>\n",
              "    .dataframe tbody tr th:only-of-type {\n",
              "        vertical-align: middle;\n",
              "    }\n",
              "\n",
              "    .dataframe tbody tr th {\n",
              "        vertical-align: top;\n",
              "    }\n",
              "\n",
              "    .dataframe thead th {\n",
              "        text-align: right;\n",
              "    }\n",
              "</style>\n",
              "<table border=\"1\" class=\"dataframe\">\n",
              "  <thead>\n",
              "    <tr style=\"text-align: right;\">\n",
              "      <th></th>\n",
              "      <th>age</th>\n",
              "      <th>workclass</th>\n",
              "      <th>fnlwgt</th>\n",
              "      <th>education</th>\n",
              "      <th>education-num</th>\n",
              "      <th>marital-status</th>\n",
              "      <th>occupation</th>\n",
              "      <th>relationship</th>\n",
              "      <th>race</th>\n",
              "      <th>sex</th>\n",
              "      <th>capital-gain</th>\n",
              "      <th>capital-loss</th>\n",
              "      <th>hours-per-week</th>\n",
              "      <th>native-country</th>\n",
              "      <th>income</th>\n",
              "    </tr>\n",
              "  </thead>\n",
              "  <tbody>\n",
              "    <tr>\n",
              "      <th>0</th>\n",
              "      <td>39</td>\n",
              "      <td>State-gov</td>\n",
              "      <td>77516.0</td>\n",
              "      <td>Bachelors</td>\n",
              "      <td>13.0</td>\n",
              "      <td>Never-married</td>\n",
              "      <td>Adm-clerical</td>\n",
              "      <td>Not-in-family</td>\n",
              "      <td>White</td>\n",
              "      <td>Male</td>\n",
              "      <td>2174.0</td>\n",
              "      <td>0.0</td>\n",
              "      <td>40.0</td>\n",
              "      <td>United-States</td>\n",
              "      <td>&lt;=50k</td>\n",
              "    </tr>\n",
              "    <tr>\n",
              "      <th>1</th>\n",
              "      <td>50</td>\n",
              "      <td>Self-emp-not-inc</td>\n",
              "      <td>83311.0</td>\n",
              "      <td>Bachelors</td>\n",
              "      <td>13.0</td>\n",
              "      <td>Married-civ-spouse</td>\n",
              "      <td>Exec-managerial</td>\n",
              "      <td>Husband</td>\n",
              "      <td>White</td>\n",
              "      <td>Male</td>\n",
              "      <td>0.0</td>\n",
              "      <td>0.0</td>\n",
              "      <td>13.0</td>\n",
              "      <td>United-States</td>\n",
              "      <td>&lt;=50k</td>\n",
              "    </tr>\n",
              "    <tr>\n",
              "      <th>2</th>\n",
              "      <td>38</td>\n",
              "      <td>Private</td>\n",
              "      <td>215646.0</td>\n",
              "      <td>HS-grad</td>\n",
              "      <td>9.0</td>\n",
              "      <td>Divorced</td>\n",
              "      <td>Handlers-cleaners</td>\n",
              "      <td>Not-in-family</td>\n",
              "      <td>White</td>\n",
              "      <td>Male</td>\n",
              "      <td>0.0</td>\n",
              "      <td>0.0</td>\n",
              "      <td>40.0</td>\n",
              "      <td>United-States</td>\n",
              "      <td>&lt;=50k</td>\n",
              "    </tr>\n",
              "    <tr>\n",
              "      <th>3</th>\n",
              "      <td>53</td>\n",
              "      <td>Private</td>\n",
              "      <td>234721.0</td>\n",
              "      <td>11th</td>\n",
              "      <td>7.0</td>\n",
              "      <td>Married-civ-spouse</td>\n",
              "      <td>Handlers-cleaners</td>\n",
              "      <td>Husband</td>\n",
              "      <td>Black</td>\n",
              "      <td>Male</td>\n",
              "      <td>0.0</td>\n",
              "      <td>0.0</td>\n",
              "      <td>40.0</td>\n",
              "      <td>United-States</td>\n",
              "      <td>&lt;=50k</td>\n",
              "    </tr>\n",
              "    <tr>\n",
              "      <th>4</th>\n",
              "      <td>28</td>\n",
              "      <td>Private</td>\n",
              "      <td>338409.0</td>\n",
              "      <td>Bachelors</td>\n",
              "      <td>13.0</td>\n",
              "      <td>Married-civ-spouse</td>\n",
              "      <td>Prof-specialty</td>\n",
              "      <td>Wife</td>\n",
              "      <td>Black</td>\n",
              "      <td>Female</td>\n",
              "      <td>0.0</td>\n",
              "      <td>0.0</td>\n",
              "      <td>40.0</td>\n",
              "      <td>Cuba</td>\n",
              "      <td>&lt;=50k</td>\n",
              "    </tr>\n",
              "  </tbody>\n",
              "</table>\n",
              "</div>"
            ],
            "text/plain": [
              "   age          workclass    fnlwgt   education  education-num  \\\n",
              "0   39          State-gov   77516.0   Bachelors           13.0   \n",
              "1   50   Self-emp-not-inc   83311.0   Bachelors           13.0   \n",
              "2   38            Private  215646.0     HS-grad            9.0   \n",
              "3   53            Private  234721.0        11th            7.0   \n",
              "4   28            Private  338409.0   Bachelors           13.0   \n",
              "\n",
              "        marital-status          occupation    relationship    race      sex  \\\n",
              "0        Never-married        Adm-clerical   Not-in-family   White     Male   \n",
              "1   Married-civ-spouse     Exec-managerial         Husband   White     Male   \n",
              "2             Divorced   Handlers-cleaners   Not-in-family   White     Male   \n",
              "3   Married-civ-spouse   Handlers-cleaners         Husband   Black     Male   \n",
              "4   Married-civ-spouse      Prof-specialty            Wife   Black   Female   \n",
              "\n",
              "   capital-gain  capital-loss  hours-per-week  native-country  income  \n",
              "0        2174.0           0.0            40.0   United-States   <=50k  \n",
              "1           0.0           0.0            13.0   United-States   <=50k  \n",
              "2           0.0           0.0            40.0   United-States   <=50k  \n",
              "3           0.0           0.0            40.0   United-States   <=50k  \n",
              "4           0.0           0.0            40.0            Cuba   <=50k  "
            ]
          },
          "execution_count": 119,
          "metadata": {},
          "output_type": "execute_result"
        }
      ],
      "source": [
        "df.head()"
      ]
    },
    {
      "cell_type": "code",
      "execution_count": 120,
      "metadata": {
        "id": "LdE8xPAwPUZ4"
      },
      "outputs": [
        {
          "name": "stdout",
          "output_type": "stream",
          "text": [
            "0        39\n",
            "1        50\n",
            "2        38\n",
            "3        53\n",
            "4        28\n",
            "         ..\n",
            "48837    39\n",
            "48838    64\n",
            "48839    38\n",
            "48840    44\n",
            "48841    35\n",
            "Name: age, Length: 48842, dtype: int32\n"
          ]
        }
      ],
      "source": [
        "\n",
        "weights = {}\n",
        "print(df[\"age\"])\n",
        "for col in df.columns:\n",
        "  weights[col] = len(df[col].unique())\n",
        "\n",
        "sortedWt = dict(sorted(weights.items(), key=lambda item: item[1], reverse=True))\n",
        "\n",
        "n = len(sortedWt.keys())\n",
        "for key in sortedWt.keys():\n",
        "  sortedWt[key] = n\n",
        "  n = n - 1\n"
      ]
    },
    {
      "cell_type": "code",
      "execution_count": 121,
      "metadata": {
        "colab": {
          "base_uri": "https://localhost:8080/"
        },
        "id": "MXSdxv2wQ5G5",
        "outputId": "402888a4-d008-4155-f656-24b16e5290b6"
      },
      "outputs": [
        {
          "data": {
            "text/plain": [
              "{'fnlwgt': 15,\n",
              " 'capital-gain': 14,\n",
              " 'capital-loss': 13,\n",
              " 'hours-per-week': 12,\n",
              " 'age': 11,\n",
              " 'native-country': 10,\n",
              " 'education': 9,\n",
              " 'education-num': 8,\n",
              " 'occupation': 7,\n",
              " 'workclass': 6,\n",
              " 'marital-status': 5,\n",
              " 'relationship': 4,\n",
              " 'race': 3,\n",
              " 'sex': 2,\n",
              " 'income': 1}"
            ]
          },
          "execution_count": 121,
          "metadata": {},
          "output_type": "execute_result"
        }
      ],
      "source": [
        "sortedWt"
      ]
    },
    {
      "cell_type": "code",
      "execution_count": 122,
      "metadata": {
        "id": "X8uqJXuqRCFV"
      },
      "outputs": [],
      "source": [
        "def encrypt(secret_key,s):\n",
        "    start = time.time()\n",
        "    iv = secret_key\n",
        "    k = des(secret_key, CBC, iv, pad=None, padmode=PAD_PKCS5)\n",
        "    en = k.encrypt(s, padmode=PAD_PKCS5)\n",
        "    t = (time.time() - start)*1000\n",
        "    return { 'data': binascii.b2a_hex(en), 'time': t }\n",
        "\n",
        "def decrypt(secret_key, s):\n",
        "    iv = secret_key\n",
        "    k = des(secret_key, CBC, iv, pad=None, padmode=PAD_PKCS5)\n",
        "    de = k.decrypt(binascii.a2b_hex(s), padmode=PAD_PKCS5)\n",
        "    return de"
      ]
    },
    {
      "cell_type": "code",
      "execution_count": 123,
      "metadata": {
        "id": "0M4FrlmfSDYO"
      },
      "outputs": [],
      "source": [
        "\n",
        "et = {}\n",
        "key = \"letsdoit\"\n",
        "for col in df.columns:\n",
        "  et[col] = {}\n",
        "\n",
        "for col in df.columns:\n",
        "  for row in df[col]:\n",
        "    if row not in et[col].keys():\n",
        "      et[col][row] = encrypt(key, str(row))"
      ]
    },
    {
      "cell_type": "code",
      "execution_count": 124,
      "metadata": {
        "colab": {
          "base_uri": "https://localhost:8080/"
        },
        "id": "8YUiDj3qSqh3",
        "outputId": "10683c7a-34bd-417c-f4f3-98f83da418f6"
      },
      "outputs": [
        {
          "name": "stdout",
          "output_type": "stream",
          "text": [
            "{39: {'data': b'f4d147fc2ec6786c', 'time': 1.0809898376464844}, 50: {'data': b'fb7d6438d20ec08c', 'time': 0.0}, 38: {'data': b'ee48689b4efb2070', 'time': 0.0}, 53: {'data': b'0f63db7f3b4ad980', 'time': 1.3036727905273438}, 28: {'data': b'9916cf68a3834cc8', 'time': 0.0}, 37: {'data': b'183228d7b4a53cf0', 'time': 0.0}, 49: {'data': b'08b2bbef1138e43a', 'time': 1.094818115234375}, 52: {'data': b'85d8875585416279', 'time': 0.0}, 31: {'data': b'da01539f23a8f933', 'time': 0.0}, 42: {'data': b'40c3a71fee1464e3', 'time': 1.0225772857666016}, 30: {'data': b'a36ed599ead97ff6', 'time': 0.0}, 23: {'data': b'459cc7fea1d43a6f', 'time': 0.0}, 32: {'data': b'649e0aaeb1dc037d', 'time': 1.0216236114501953}, 40: {'data': b'9578617171dd6c03', 'time': 0.0}, 34: {'data': b'c9b20ede1b3b8782', 'time': 0.0}, 25: {'data': b'9d79980d40a2fe27', 'time': 1.363515853881836}, 43: {'data': b'7a1a9a0c5f151855', 'time': 0.0}, 54: {'data': b'0cdf0a37a9604f6f', 'time': 1.0013580322265625}, 35: {'data': b'37fece6d6b0c5365', 'time': 0.0}, 59: {'data': b'63e483766a5cb6b9', 'time': 1.001596450805664}, 56: {'data': b'cb3ee041174b8f46', 'time': 0.0}, 19: {'data': b'a21165322729d351', 'time': 0.5097389221191406}, 20: {'data': b'2786f271cd6aa3c9', 'time': 0.0}, 45: {'data': b'151b912c397e6c24', 'time': 0.0}, 22: {'data': b'cb06146d086a5356', 'time': 1.4882087707519531}, 48: {'data': b'4737e53dfabe6269', 'time': 0.0}, 21: {'data': b'3dfd76539b98bb08', 'time': 0.0}, 24: {'data': b'305cca2ee97485e4', 'time': 1.180887222290039}, 57: {'data': b'84c20355f03ea407', 'time': 0.0}, 44: {'data': b'3d5b288bf08f6478', 'time': 0.0}, 41: {'data': b'23569cfb9e10bb16', 'time': 1.0023117065429688}, 29: {'data': b'a713f0568ca6c4e8', 'time': 0.0}, 18: {'data': b'419c310a5404efd4', 'time': 0.0}, 47: {'data': b'd5705cada4297fb8', 'time': 1.001596450805664}, 46: {'data': b'a6c88c2833d4d7e0', 'time': 0.0}, 36: {'data': b'ad1b26872d18a033', 'time': 0.0}, 79: {'data': b'cf50ea689a9b8d78', 'time': 1.4448165893554688}, 27: {'data': b'f9be1bc37e16e84b', 'time': 0.0}, 67: {'data': b'a111901aff2f1fe4', 'time': 1.0018348693847656}, 33: {'data': b'4be1bfe29a95178a', 'time': 0.0}, 76: {'data': b'1be2099d18510105', 'time': 0.0}, 17: {'data': b'd1993ab07cbf11e7', 'time': 0.0}, 55: {'data': b'0d44e3269e761bb7', 'time': 0.9999275207519531}, 61: {'data': b'f6d97066c6cb5a08', 'time': 0.0}, 70: {'data': b'2ae207038fa244fd', 'time': 1.0001659393310547}, 64: {'data': b'4fbb6d821e0c7bd2', 'time': 0.0}, 71: {'data': b'21aa8ef4788eb54f', 'time': 1.001119613647461}, 68: {'data': b'a3a7f887d5d118b1', 'time': 0.5033016204833984}, 66: {'data': b'9013f35de49151f9', 'time': 0.0}, 51: {'data': b'316e85524ff0b4a1', 'time': 0.0}, 58: {'data': b'b424308960668a73', 'time': 0.0}, 26: {'data': b'4e4722818ee0d895', 'time': 1.0013580322265625}, 60: {'data': b'7efb1f0068b8fdee', 'time': 0.0}, 90: {'data': b'7e31f5b4fac4f093', 'time': 0.0}, 75: {'data': b'f02e1358cca3e3c4', 'time': 1.001596450805664}, 65: {'data': b'2b432708ca63fa23', 'time': 0.0}, 77: {'data': b'a8ac5631bb480d0f', 'time': 0.0}, 62: {'data': b'8c9083a1b054ef83', 'time': 1.001119613647461}, 63: {'data': b'b435989acc2021ce', 'time': 1.0008811950683594}, 80: {'data': b'15043c62ddc98768', 'time': 0.0}, 72: {'data': b'1fe16f4c17ccd8d2', 'time': 0.0}, 74: {'data': b'15219a71a136b813', 'time': 1.459360122680664}, 69: {'data': b'400d10a84a0811c1', 'time': 0.0}, 73: {'data': b'85ba107fa85cf83f', 'time': 0.0}, 81: {'data': b'0380ae5871c5a21e', 'time': 1.2433528900146484}, 78: {'data': b'7817ea15457bc39f', 'time': 0.0}, 88: {'data': b'31a4b903569b5f71', 'time': 0.0}, 82: {'data': b'737a3c8f812e024b', 'time': 1.4603137969970703}, 83: {'data': b'287fbcc31ab9419f', 'time': 0.0}, 84: {'data': b'046ea8c37c48fb28', 'time': 0.0}, 85: {'data': b'7a8096ea592b3a96', 'time': 0.0}, 86: {'data': b'f53b91a18965255f', 'time': 1.0001659393310547}, 87: {'data': b'701c6dd8b00b1fb4', 'time': 1.0013580322265625}, 89: {'data': b'97c1681b8896d8d0', 'time': 0.0}}\n"
          ]
        }
      ],
      "source": [
        "print(et[\"age\"])"
      ]
    },
    {
      "attachments": {},
      "cell_type": "markdown",
      "metadata": {
        "id": "RdwKNtBlTNMv"
      },
      "source": [
        "**Generating a Helper Function**<br>Calculating and storing time of execution and uniqueness count for a single dataentry of every attribute"
      ]
    },
    {
      "cell_type": "code",
      "execution_count": 125,
      "metadata": {
        "id": "NVq7DZwLS2ap"
      },
      "outputs": [],
      "source": [
        "nt = {}\n",
        "for col in df.columns:\n",
        "  nt[col] = { 'count': len(df[col].unique()), 'time': encrypt(key, str(df[col][0]))['time']}"
      ]
    },
    {
      "cell_type": "code",
      "execution_count": 126,
      "metadata": {
        "colab": {
          "base_uri": "https://localhost:8080/"
        },
        "id": "pUxq6IQlT1To",
        "outputId": "7f4dad94-bb7c-4421-bf91-f9db1501148f"
      },
      "outputs": [
        {
          "data": {
            "text/plain": [
              "{'age': {'count': 74, 'time': 0.99945068359375},\n",
              " 'workclass': {'count': 9, 'time': 1.001119613647461},\n",
              " 'fnlwgt': {'count': 28523, 'time': 0.9996891021728516},\n",
              " 'education': {'count': 16, 'time': 1.0001659393310547},\n",
              " 'education-num': {'count': 16, 'time': 0.9999275207519531},\n",
              " 'marital-status': {'count': 7, 'time': 1.0027885437011719},\n",
              " 'occupation': {'count': 15, 'time': 0.9999275207519531},\n",
              " 'relationship': {'count': 6, 'time': 1.0485649108886719},\n",
              " 'race': {'count': 5, 'time': 1.0023117065429688},\n",
              " 'sex': {'count': 2, 'time': 0.0},\n",
              " 'capital-gain': {'count': 123, 'time': 0.0},\n",
              " 'capital-loss': {'count': 99, 'time': 1.0001659393310547},\n",
              " 'hours-per-week': {'count': 96, 'time': 0.0},\n",
              " 'native-country': {'count': 42, 'time': 0.0},\n",
              " 'income': {'count': 2, 'time': 0.0}}"
            ]
          },
          "execution_count": 126,
          "metadata": {},
          "output_type": "execute_result"
        }
      ],
      "source": [
        "nt"
      ]
    },
    {
      "cell_type": "code",
      "execution_count": 127,
      "metadata": {
        "id": "giYmR3RdT8cz"
      },
      "outputs": [],
      "source": [
        "helperEt = {}\n",
        "\n",
        "for col in df.columns:\n",
        "  start = time.time()\n",
        "  df[col].sort_values(ascending = False)\n",
        "  helperEt[col] = (time.time() - start)*1000\n",
        "   "
      ]
    },
    {
      "cell_type": "code",
      "execution_count": 128,
      "metadata": {
        "colab": {
          "base_uri": "https://localhost:8080/"
        },
        "id": "0meJHXg6WInA",
        "outputId": "f917a8af-7944-4ff2-ddbd-dba12a74f838"
      },
      "outputs": [
        {
          "data": {
            "text/plain": [
              "{'age': 3.7734508514404297,\n",
              " 'workclass': 43.86615753173828,\n",
              " 'fnlwgt': 5.222082138061523,\n",
              " 'education': 34.73687171936035,\n",
              " 'education-num': 1.9998550415039062,\n",
              " 'marital-status': 29.77156639099121,\n",
              " 'occupation': 30.823945999145508,\n",
              " 'relationship': 34.02376174926758,\n",
              " 'race': 30.855417251586914,\n",
              " 'sex': 32.03463554382324,\n",
              " 'capital-gain': 2.145051956176758,\n",
              " 'capital-loss': 1.0030269622802734,\n",
              " 'hours-per-week': 2.001523971557617,\n",
              " 'native-country': 34.35873985290527,\n",
              " 'income': 30.04598617553711}"
            ]
          },
          "execution_count": 128,
          "metadata": {},
          "output_type": "execute_result"
        }
      ],
      "source": [
        "helperEt"
      ]
    },
    {
      "cell_type": "code",
      "execution_count": 129,
      "metadata": {
        "id": "BhdJ6MIMWNL6"
      },
      "outputs": [],
      "source": [
        "st = {}\n",
        "\n",
        "for col in df.columns:\n",
        "  st[col] = sortedWt[col]/helperEt[col]\n",
        "\n",
        "sortedSt = dict(sorted(st.items(), key=lambda item: item[1], reverse=True))"
      ]
    },
    {
      "cell_type": "code",
      "execution_count": 130,
      "metadata": {
        "colab": {
          "base_uri": "https://localhost:8080/"
        },
        "id": "9ol5Q6lRXT-J",
        "outputId": "0cd453d0-ca62-45f4-ae1a-654718f78da9"
      },
      "outputs": [
        {
          "name": "stdout",
          "output_type": "stream",
          "text": [
            "{'capital-loss': 12.960768243403852, 'capital-gain': 6.526648438368345, 'hours-per-week': 5.995431566408577, 'education-num': 4.000289938006676, 'age': 2.9151035572123587, 'fnlwgt': 2.872417477057937, 'native-country': 0.2910467625649673, 'education': 0.2590906882090915, 'occupation': 0.22709616738214022, 'marital-status': 0.1679454797350866, 'workclass': 0.13677970302411027, 'relationship': 0.11756489565960787, 'race': 0.09722765942650502, 'sex': 0.062432425593355316, 'income': 0.03328231578613258}\n"
          ]
        }
      ],
      "source": [
        "print(sortedSt)"
      ]
    },
    {
      "cell_type": "code",
      "execution_count": 131,
      "metadata": {
        "id": "1QIZeCCTXYVS"
      },
      "outputs": [],
      "source": [
        "\n",
        "tc = 100000\n",
        "\n",
        "for key in sortedSt.keys():\n",
        "  idx = 0\n",
        "  for el in df[key]:\n",
        "    if tc >= et[key][el]['time']:\n",
        "      df.loc[idx, key] = et[key][el]['data']\n",
        "      tc = tc - et[key][el]['time']\n",
        "    idx = idx + 1"
      ]
    },
    {
      "cell_type": "code",
      "execution_count": 134,
      "metadata": {
        "colab": {
          "base_uri": "https://localhost:8080/",
          "height": 659
        },
        "id": "SNa7GAYmYtDd",
        "outputId": "fd443494-86db-4082-edbb-117f15a2215b"
      },
      "outputs": [
        {
          "data": {
            "text/html": [
              "<div>\n",
              "<style scoped>\n",
              "    .dataframe tbody tr th:only-of-type {\n",
              "        vertical-align: middle;\n",
              "    }\n",
              "\n",
              "    .dataframe tbody tr th {\n",
              "        vertical-align: top;\n",
              "    }\n",
              "\n",
              "    .dataframe thead th {\n",
              "        text-align: right;\n",
              "    }\n",
              "</style>\n",
              "<table border=\"1\" class=\"dataframe\">\n",
              "  <thead>\n",
              "    <tr style=\"text-align: right;\">\n",
              "      <th></th>\n",
              "      <th>age</th>\n",
              "      <th>workclass</th>\n",
              "      <th>fnlwgt</th>\n",
              "      <th>education</th>\n",
              "      <th>education-num</th>\n",
              "      <th>marital-status</th>\n",
              "      <th>occupation</th>\n",
              "      <th>relationship</th>\n",
              "      <th>race</th>\n",
              "      <th>sex</th>\n",
              "      <th>capital-gain</th>\n",
              "      <th>capital-loss</th>\n",
              "      <th>hours-per-week</th>\n",
              "      <th>native-country</th>\n",
              "      <th>income</th>\n",
              "    </tr>\n",
              "  </thead>\n",
              "  <tbody>\n",
              "    <tr>\n",
              "      <th>0</th>\n",
              "      <td>b'f4d147fc2ec6786c'</td>\n",
              "      <td>State-gov</td>\n",
              "      <td>b'f5b93b162b5e383f'</td>\n",
              "      <td>Bachelors</td>\n",
              "      <td>b'27ddc835a5acb313'</td>\n",
              "      <td>Never-married</td>\n",
              "      <td>Adm-clerical</td>\n",
              "      <td>b'5604151d01d05203170950cdb9c25299'</td>\n",
              "      <td>b'c1169a1459425ffa'</td>\n",
              "      <td>b'd75fd9147dfd620d'</td>\n",
              "      <td>b'8323049c46985b1f'</td>\n",
              "      <td>b'0ed705ec7fac3627'</td>\n",
              "      <td>b'aa94490952c42c39'</td>\n",
              "      <td>b'4fc963bd4ff11fbb4d7039c15e6cb62b'</td>\n",
              "      <td>b'52c3982724b290d8'</td>\n",
              "    </tr>\n",
              "    <tr>\n",
              "      <th>1</th>\n",
              "      <td>b'fb7d6438d20ec08c'</td>\n",
              "      <td>Self-emp-not-inc</td>\n",
              "      <td>b'9dff9501c50020c1'</td>\n",
              "      <td>Bachelors</td>\n",
              "      <td>b'27ddc835a5acb313'</td>\n",
              "      <td>b'f6b59e3caeb7a5fb44d9ac71729c2350b21f16dc63a4...</td>\n",
              "      <td>b'b9db003c6adba57dba178cdef5d94a93a987265a8da8...</td>\n",
              "      <td>Husband</td>\n",
              "      <td>b'c1169a1459425ffa'</td>\n",
              "      <td>b'd75fd9147dfd620d'</td>\n",
              "      <td>b'0ed705ec7fac3627'</td>\n",
              "      <td>b'0ed705ec7fac3627'</td>\n",
              "      <td>b'27ddc835a5acb313'</td>\n",
              "      <td>b'4fc963bd4ff11fbb4d7039c15e6cb62b'</td>\n",
              "      <td>b'52c3982724b290d8'</td>\n",
              "    </tr>\n",
              "    <tr>\n",
              "      <th>2</th>\n",
              "      <td>b'ee48689b4efb2070'</td>\n",
              "      <td>Private</td>\n",
              "      <td>b'd11e7837093fb7265462b5120e3f9cc8'</td>\n",
              "      <td>b'b19088fdc9c9758ad2fe5e6bc784510c'</td>\n",
              "      <td>b'40faccc8d7265aae'</td>\n",
              "      <td>Divorced</td>\n",
              "      <td>Handlers-cleaners</td>\n",
              "      <td>b'5604151d01d05203170950cdb9c25299'</td>\n",
              "      <td>b'c1169a1459425ffa'</td>\n",
              "      <td>b'd75fd9147dfd620d'</td>\n",
              "      <td>b'0ed705ec7fac3627'</td>\n",
              "      <td>b'0ed705ec7fac3627'</td>\n",
              "      <td>b'aa94490952c42c39'</td>\n",
              "      <td>b'4fc963bd4ff11fbb4d7039c15e6cb62b'</td>\n",
              "      <td>b'52c3982724b290d8'</td>\n",
              "    </tr>\n",
              "    <tr>\n",
              "      <th>3</th>\n",
              "      <td>b'0f63db7f3b4ad980'</td>\n",
              "      <td>Private</td>\n",
              "      <td>b'ed561535029b17e2ef9e6647c3d81189'</td>\n",
              "      <td>11th</td>\n",
              "      <td>b'8e73d72ae467f5be'</td>\n",
              "      <td>b'f6b59e3caeb7a5fb44d9ac71729c2350b21f16dc63a4...</td>\n",
              "      <td>Handlers-cleaners</td>\n",
              "      <td>Husband</td>\n",
              "      <td>Black</td>\n",
              "      <td>b'd75fd9147dfd620d'</td>\n",
              "      <td>b'0ed705ec7fac3627'</td>\n",
              "      <td>b'0ed705ec7fac3627'</td>\n",
              "      <td>b'aa94490952c42c39'</td>\n",
              "      <td>b'4fc963bd4ff11fbb4d7039c15e6cb62b'</td>\n",
              "      <td>b'52c3982724b290d8'</td>\n",
              "    </tr>\n",
              "    <tr>\n",
              "      <th>4</th>\n",
              "      <td>b'9916cf68a3834cc8'</td>\n",
              "      <td>Private</td>\n",
              "      <td>b'f66dfc57448f43d77832a2cc12861a9c'</td>\n",
              "      <td>Bachelors</td>\n",
              "      <td>b'27ddc835a5acb313'</td>\n",
              "      <td>b'f6b59e3caeb7a5fb44d9ac71729c2350b21f16dc63a4...</td>\n",
              "      <td>Prof-specialty</td>\n",
              "      <td>b'f36450d2f595c77c'</td>\n",
              "      <td>Black</td>\n",
              "      <td>b'7416e193041af998'</td>\n",
              "      <td>b'0ed705ec7fac3627'</td>\n",
              "      <td>b'0ed705ec7fac3627'</td>\n",
              "      <td>b'aa94490952c42c39'</td>\n",
              "      <td>b'2b29bbdced3a8972'</td>\n",
              "      <td>b'52c3982724b290d8'</td>\n",
              "    </tr>\n",
              "    <tr>\n",
              "      <th>...</th>\n",
              "      <td>...</td>\n",
              "      <td>...</td>\n",
              "      <td>...</td>\n",
              "      <td>...</td>\n",
              "      <td>...</td>\n",
              "      <td>...</td>\n",
              "      <td>...</td>\n",
              "      <td>...</td>\n",
              "      <td>...</td>\n",
              "      <td>...</td>\n",
              "      <td>...</td>\n",
              "      <td>...</td>\n",
              "      <td>...</td>\n",
              "      <td>...</td>\n",
              "      <td>...</td>\n",
              "    </tr>\n",
              "    <tr>\n",
              "      <th>48837</th>\n",
              "      <td>b'f4d147fc2ec6786c'</td>\n",
              "      <td>Private</td>\n",
              "      <td>b'f37e2ed30d3a5f859477876243b54f7b'</td>\n",
              "      <td>Bachelors</td>\n",
              "      <td>b'27ddc835a5acb313'</td>\n",
              "      <td>Divorced</td>\n",
              "      <td>Prof-specialty</td>\n",
              "      <td>b'5604151d01d05203170950cdb9c25299'</td>\n",
              "      <td>b'c1169a1459425ffa'</td>\n",
              "      <td>b'7416e193041af998'</td>\n",
              "      <td>b'0ed705ec7fac3627'</td>\n",
              "      <td>b'0ed705ec7fac3627'</td>\n",
              "      <td>b'c3e4150dc3fac58c'</td>\n",
              "      <td>United-States</td>\n",
              "      <td>b'52c3982724b290d8'</td>\n",
              "    </tr>\n",
              "    <tr>\n",
              "      <th>48838</th>\n",
              "      <td>b'4fbb6d821e0c7bd2'</td>\n",
              "      <td>?</td>\n",
              "      <td>b'4675a6ce30f07c3cee998bab15f5ceb1'</td>\n",
              "      <td>b'b19088fdc9c9758ad2fe5e6bc784510c'</td>\n",
              "      <td>b'40faccc8d7265aae'</td>\n",
              "      <td>b'35cbe04c44c3a7c9e1b34b78a6ee4530'</td>\n",
              "      <td>b'e1884bccc45f60cd'</td>\n",
              "      <td>Other-relative</td>\n",
              "      <td>Black</td>\n",
              "      <td>b'd75fd9147dfd620d'</td>\n",
              "      <td>b'0ed705ec7fac3627'</td>\n",
              "      <td>b'0ed705ec7fac3627'</td>\n",
              "      <td>b'aa94490952c42c39'</td>\n",
              "      <td>United-States</td>\n",
              "      <td>b'52c3982724b290d8'</td>\n",
              "    </tr>\n",
              "    <tr>\n",
              "      <th>48839</th>\n",
              "      <td>b'ee48689b4efb2070'</td>\n",
              "      <td>Private</td>\n",
              "      <td>b'ee601dc7d936a77cf514912dbc6274f7'</td>\n",
              "      <td>Bachelors</td>\n",
              "      <td>b'27ddc835a5acb313'</td>\n",
              "      <td>b'f6b59e3caeb7a5fb44d9ac71729c2350b21f16dc63a4...</td>\n",
              "      <td>Prof-specialty</td>\n",
              "      <td>Husband</td>\n",
              "      <td>b'c1169a1459425ffa'</td>\n",
              "      <td>b'd75fd9147dfd620d'</td>\n",
              "      <td>b'0ed705ec7fac3627'</td>\n",
              "      <td>b'0ed705ec7fac3627'</td>\n",
              "      <td>b'e28c1299ba354465'</td>\n",
              "      <td>United-States</td>\n",
              "      <td>b'52c3982724b290d8'</td>\n",
              "    </tr>\n",
              "    <tr>\n",
              "      <th>48840</th>\n",
              "      <td>b'3d5b288bf08f6478'</td>\n",
              "      <td>Private</td>\n",
              "      <td>b'f7612803b6e1399b'</td>\n",
              "      <td>Bachelors</td>\n",
              "      <td>b'27ddc835a5acb313'</td>\n",
              "      <td>Divorced</td>\n",
              "      <td>Adm-clerical</td>\n",
              "      <td>Own-child</td>\n",
              "      <td>Asian-Pac-Islander</td>\n",
              "      <td>b'd75fd9147dfd620d'</td>\n",
              "      <td>b'c20324bf42eb790e'</td>\n",
              "      <td>b'0ed705ec7fac3627'</td>\n",
              "      <td>b'aa94490952c42c39'</td>\n",
              "      <td>United-States</td>\n",
              "      <td>b'52c3982724b290d8'</td>\n",
              "    </tr>\n",
              "    <tr>\n",
              "      <th>48841</th>\n",
              "      <td>b'37fece6d6b0c5365'</td>\n",
              "      <td>Self-emp-inc</td>\n",
              "      <td>b'3fdc600d7ad1d2ac55d51239e0ed5854'</td>\n",
              "      <td>Bachelors</td>\n",
              "      <td>b'27ddc835a5acb313'</td>\n",
              "      <td>b'f6b59e3caeb7a5fb44d9ac71729c2350b21f16dc63a4...</td>\n",
              "      <td>b'b9db003c6adba57dba178cdef5d94a93a987265a8da8...</td>\n",
              "      <td>Husband</td>\n",
              "      <td>b'c1169a1459425ffa'</td>\n",
              "      <td>b'd75fd9147dfd620d'</td>\n",
              "      <td>b'0ed705ec7fac3627'</td>\n",
              "      <td>b'0ed705ec7fac3627'</td>\n",
              "      <td>b'e04058e412dbbfd2'</td>\n",
              "      <td>United-States</td>\n",
              "      <td>b'a3071a9f9592c2b9'</td>\n",
              "    </tr>\n",
              "  </tbody>\n",
              "</table>\n",
              "<p>48842 rows × 15 columns</p>\n",
              "</div>"
            ],
            "text/plain": [
              "                       age          workclass  \\\n",
              "0      b'f4d147fc2ec6786c'          State-gov   \n",
              "1      b'fb7d6438d20ec08c'   Self-emp-not-inc   \n",
              "2      b'ee48689b4efb2070'            Private   \n",
              "3      b'0f63db7f3b4ad980'            Private   \n",
              "4      b'9916cf68a3834cc8'            Private   \n",
              "...                    ...                ...   \n",
              "48837  b'f4d147fc2ec6786c'            Private   \n",
              "48838  b'4fbb6d821e0c7bd2'                  ?   \n",
              "48839  b'ee48689b4efb2070'            Private   \n",
              "48840  b'3d5b288bf08f6478'            Private   \n",
              "48841  b'37fece6d6b0c5365'       Self-emp-inc   \n",
              "\n",
              "                                    fnlwgt  \\\n",
              "0                      b'f5b93b162b5e383f'   \n",
              "1                      b'9dff9501c50020c1'   \n",
              "2      b'd11e7837093fb7265462b5120e3f9cc8'   \n",
              "3      b'ed561535029b17e2ef9e6647c3d81189'   \n",
              "4      b'f66dfc57448f43d77832a2cc12861a9c'   \n",
              "...                                    ...   \n",
              "48837  b'f37e2ed30d3a5f859477876243b54f7b'   \n",
              "48838  b'4675a6ce30f07c3cee998bab15f5ceb1'   \n",
              "48839  b'ee601dc7d936a77cf514912dbc6274f7'   \n",
              "48840                  b'f7612803b6e1399b'   \n",
              "48841  b'3fdc600d7ad1d2ac55d51239e0ed5854'   \n",
              "\n",
              "                                 education        education-num  \\\n",
              "0                                Bachelors  b'27ddc835a5acb313'   \n",
              "1                                Bachelors  b'27ddc835a5acb313'   \n",
              "2      b'b19088fdc9c9758ad2fe5e6bc784510c'  b'40faccc8d7265aae'   \n",
              "3                                     11th  b'8e73d72ae467f5be'   \n",
              "4                                Bachelors  b'27ddc835a5acb313'   \n",
              "...                                    ...                  ...   \n",
              "48837                            Bachelors  b'27ddc835a5acb313'   \n",
              "48838  b'b19088fdc9c9758ad2fe5e6bc784510c'  b'40faccc8d7265aae'   \n",
              "48839                            Bachelors  b'27ddc835a5acb313'   \n",
              "48840                            Bachelors  b'27ddc835a5acb313'   \n",
              "48841                            Bachelors  b'27ddc835a5acb313'   \n",
              "\n",
              "                                          marital-status  \\\n",
              "0                                          Never-married   \n",
              "1      b'f6b59e3caeb7a5fb44d9ac71729c2350b21f16dc63a4...   \n",
              "2                                               Divorced   \n",
              "3      b'f6b59e3caeb7a5fb44d9ac71729c2350b21f16dc63a4...   \n",
              "4      b'f6b59e3caeb7a5fb44d9ac71729c2350b21f16dc63a4...   \n",
              "...                                                  ...   \n",
              "48837                                           Divorced   \n",
              "48838                b'35cbe04c44c3a7c9e1b34b78a6ee4530'   \n",
              "48839  b'f6b59e3caeb7a5fb44d9ac71729c2350b21f16dc63a4...   \n",
              "48840                                           Divorced   \n",
              "48841  b'f6b59e3caeb7a5fb44d9ac71729c2350b21f16dc63a4...   \n",
              "\n",
              "                                              occupation  \\\n",
              "0                                           Adm-clerical   \n",
              "1      b'b9db003c6adba57dba178cdef5d94a93a987265a8da8...   \n",
              "2                                      Handlers-cleaners   \n",
              "3                                      Handlers-cleaners   \n",
              "4                                         Prof-specialty   \n",
              "...                                                  ...   \n",
              "48837                                     Prof-specialty   \n",
              "48838                                b'e1884bccc45f60cd'   \n",
              "48839                                     Prof-specialty   \n",
              "48840                                       Adm-clerical   \n",
              "48841  b'b9db003c6adba57dba178cdef5d94a93a987265a8da8...   \n",
              "\n",
              "                              relationship                 race  \\\n",
              "0      b'5604151d01d05203170950cdb9c25299'  b'c1169a1459425ffa'   \n",
              "1                                  Husband  b'c1169a1459425ffa'   \n",
              "2      b'5604151d01d05203170950cdb9c25299'  b'c1169a1459425ffa'   \n",
              "3                                  Husband                Black   \n",
              "4                      b'f36450d2f595c77c'                Black   \n",
              "...                                    ...                  ...   \n",
              "48837  b'5604151d01d05203170950cdb9c25299'  b'c1169a1459425ffa'   \n",
              "48838                       Other-relative                Black   \n",
              "48839                              Husband  b'c1169a1459425ffa'   \n",
              "48840                            Own-child   Asian-Pac-Islander   \n",
              "48841                              Husband  b'c1169a1459425ffa'   \n",
              "\n",
              "                       sex         capital-gain         capital-loss  \\\n",
              "0      b'd75fd9147dfd620d'  b'8323049c46985b1f'  b'0ed705ec7fac3627'   \n",
              "1      b'd75fd9147dfd620d'  b'0ed705ec7fac3627'  b'0ed705ec7fac3627'   \n",
              "2      b'd75fd9147dfd620d'  b'0ed705ec7fac3627'  b'0ed705ec7fac3627'   \n",
              "3      b'd75fd9147dfd620d'  b'0ed705ec7fac3627'  b'0ed705ec7fac3627'   \n",
              "4      b'7416e193041af998'  b'0ed705ec7fac3627'  b'0ed705ec7fac3627'   \n",
              "...                    ...                  ...                  ...   \n",
              "48837  b'7416e193041af998'  b'0ed705ec7fac3627'  b'0ed705ec7fac3627'   \n",
              "48838  b'd75fd9147dfd620d'  b'0ed705ec7fac3627'  b'0ed705ec7fac3627'   \n",
              "48839  b'd75fd9147dfd620d'  b'0ed705ec7fac3627'  b'0ed705ec7fac3627'   \n",
              "48840  b'd75fd9147dfd620d'  b'c20324bf42eb790e'  b'0ed705ec7fac3627'   \n",
              "48841  b'd75fd9147dfd620d'  b'0ed705ec7fac3627'  b'0ed705ec7fac3627'   \n",
              "\n",
              "            hours-per-week                       native-country  \\\n",
              "0      b'aa94490952c42c39'  b'4fc963bd4ff11fbb4d7039c15e6cb62b'   \n",
              "1      b'27ddc835a5acb313'  b'4fc963bd4ff11fbb4d7039c15e6cb62b'   \n",
              "2      b'aa94490952c42c39'  b'4fc963bd4ff11fbb4d7039c15e6cb62b'   \n",
              "3      b'aa94490952c42c39'  b'4fc963bd4ff11fbb4d7039c15e6cb62b'   \n",
              "4      b'aa94490952c42c39'                  b'2b29bbdced3a8972'   \n",
              "...                    ...                                  ...   \n",
              "48837  b'c3e4150dc3fac58c'                        United-States   \n",
              "48838  b'aa94490952c42c39'                        United-States   \n",
              "48839  b'e28c1299ba354465'                        United-States   \n",
              "48840  b'aa94490952c42c39'                        United-States   \n",
              "48841  b'e04058e412dbbfd2'                        United-States   \n",
              "\n",
              "                    income  \n",
              "0      b'52c3982724b290d8'  \n",
              "1      b'52c3982724b290d8'  \n",
              "2      b'52c3982724b290d8'  \n",
              "3      b'52c3982724b290d8'  \n",
              "4      b'52c3982724b290d8'  \n",
              "...                    ...  \n",
              "48837  b'52c3982724b290d8'  \n",
              "48838  b'52c3982724b290d8'  \n",
              "48839  b'52c3982724b290d8'  \n",
              "48840  b'52c3982724b290d8'  \n",
              "48841  b'a3071a9f9592c2b9'  \n",
              "\n",
              "[48842 rows x 15 columns]"
            ]
          },
          "execution_count": 134,
          "metadata": {},
          "output_type": "execute_result"
        }
      ],
      "source": [
        "# Let's take a look at resulting dataset\n",
        "df"
      ]
    }
  ],
  "metadata": {
    "colab": {
      "authorship_tag": "ABX9TyMZYhkmVFu6NlPnbuYHmIat",
      "collapsed_sections": [],
      "include_colab_link": true,
      "name": "main.ipynb",
      "provenance": []
    },
    "kernelspec": {
      "display_name": "Python 3",
      "name": "python3"
    },
    "language_info": {
      "codemirror_mode": {
        "name": "ipython",
        "version": 3
      },
      "file_extension": ".py",
      "mimetype": "text/x-python",
      "name": "python",
      "nbconvert_exporter": "python",
      "pygments_lexer": "ipython3",
      "version": "3.11.2"
    }
  },
  "nbformat": 4,
  "nbformat_minor": 0
}
